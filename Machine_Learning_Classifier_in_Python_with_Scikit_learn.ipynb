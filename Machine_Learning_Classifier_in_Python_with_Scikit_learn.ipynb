{
  "nbformat": 4,
  "nbformat_minor": 0,
  "metadata": {
    "colab": {
      "provenance": [],
      "authorship_tag": "ABX9TyMzCYlMY0SuX4ZYOC3JhMIp",
      "include_colab_link": true
    },
    "kernelspec": {
      "name": "python3",
      "display_name": "Python 3"
    },
    "language_info": {
      "name": "python"
    }
  },
  "cells": [
    {
      "cell_type": "markdown",
      "metadata": {
        "id": "view-in-github",
        "colab_type": "text"
      },
      "source": [
        "<a href=\"https://colab.research.google.com/github/disenodc/Doctorado_UNS/blob/main/Machine_Learning_Classifier_in_Python_with_Scikit_learn.ipynb\" target=\"_parent\"><img src=\"https://colab.research.google.com/assets/colab-badge.svg\" alt=\"Open In Colab\"/></a>"
      ]
    },
    {
      "cell_type": "markdown",
      "source": [
        "# Machine Learning Classifier in Python with Scikit-learn\n",
        "PASOS \n",
        "\n",
        "\n",
        "*  Importing Scikit-learn\n",
        "*  Load Dataset\n",
        "*  Organizing Data into Sets\n",
        "*  Building and Evaluating the Model\n",
        "*  Evaluating the Model’s Accuracy\n",
        "\n"
      ],
      "metadata": {
        "id": "d5-xdWWeoBGk"
      }
    },
    {
      "cell_type": "markdown",
      "source": [
        "# Importo librerias"
      ],
      "metadata": {
        "id": "jNeQhIylvSO6"
      }
    },
    {
      "cell_type": "code",
      "execution_count": 19,
      "metadata": {
        "id": "3jZdpvWln11O"
      },
      "outputs": [],
      "source": [
        "# importo librerias\n",
        "import sklearn\n",
        "\n",
        "# dataset\n",
        "from sklearn.datasets import load_breast_cancer\n",
        "\n",
        "# sklearn function train_test_split(), divides your data into sets\n",
        "from sklearn.model_selection import train_test_split\n",
        "\n",
        "# Classification tool\n",
        "from sklearn.naive_bayes import GaussianNB\n",
        "\n",
        "# function accuracy_score() determine the accuracy of our classifier\n",
        "from sklearn.metrics import accuracy_score"
      ]
    },
    {
      "cell_type": "markdown",
      "source": [
        "The dataset we will be working with in this tutorial is the Breast Cancer\n",
        "Wisconsin Diagnostic Database. The dataset includes various information about breast cancer tumors, as well as classification labels of malignant or benign. The dataset has 5 6 9 instances, or data, on 569 tumors and includes information on 30 attributes, or features, such as the radius of the tumor, texture, smoothness, and area"
      ],
      "metadata": {
        "id": "hgyT-mfAoY8I"
      }
    },
    {
      "cell_type": "markdown",
      "source": [
        "# Load dataset"
      ],
      "metadata": {
        "id": "ytjrG3TavWlq"
      }
    },
    {
      "cell_type": "code",
      "source": [
        "# Load dataset\n",
        "data = load_breast_cancer()"
      ],
      "metadata": {
        "id": "A7SllK7As5jU"
      },
      "execution_count": null,
      "outputs": []
    },
    {
      "cell_type": "markdown",
      "source": [
        "# Organize our data"
      ],
      "metadata": {
        "id": "mGhz4C5Gvijy"
      }
    },
    {
      "cell_type": "code",
      "source": [
        "# Organize our data\n",
        "label_names = data['target_names']\n",
        "labels = data['target']\n",
        "feature_names = data['feature_names']\n",
        "features = data['data']"
      ],
      "metadata": {
        "id": "PpUu0amooMfr"
      },
      "execution_count": 10,
      "outputs": []
    },
    {
      "cell_type": "code",
      "source": [
        "# Look at our data\n",
        "print(label_names)\n",
        "print(labels[1])\n",
        "print(feature_names[0])\n",
        "print(features[0])\n"
      ],
      "metadata": {
        "colab": {
          "base_uri": "https://localhost:8080/"
        },
        "id": "svK-lJWeqUfl",
        "outputId": "a02789fb-8856-4139-d950-53121cd93c0c"
      },
      "execution_count": 9,
      "outputs": [
        {
          "output_type": "stream",
          "name": "stdout",
          "text": [
            "['malignant' 'benign']\n",
            "0\n",
            "mean radius\n",
            "[1.799e+01 1.038e+01 1.228e+02 1.001e+03 1.184e-01 2.776e-01 3.001e-01\n",
            " 1.471e-01 2.419e-01 7.871e-02 1.095e+00 9.053e-01 8.589e+00 1.534e+02\n",
            " 6.399e-03 4.904e-02 5.373e-02 1.587e-02 3.003e-02 6.193e-03 2.538e+01\n",
            " 1.733e+01 1.846e+02 2.019e+03 1.622e-01 6.656e-01 7.119e-01 2.654e-01\n",
            " 4.601e-01 1.189e-01]\n"
          ]
        }
      ]
    },
    {
      "cell_type": "markdown",
      "source": [
        "# Split our data"
      ],
      "metadata": {
        "id": "ieiUeeCFvNdg"
      }
    },
    {
      "cell_type": "code",
      "source": [
        "# Split our data\n",
        "train, test, train_labels, test_labels = train_test_split(features, labels, test_size=0.33, random_state=42)\n"
      ],
      "metadata": {
        "id": "rvM7D6JOqm5T"
      },
      "execution_count": 12,
      "outputs": []
    },
    {
      "cell_type": "markdown",
      "source": [
        "There are many models for machine learning, and each model has its\n",
        "own strengths and weaknesses. In this tutorial, we will focus on a simple\n",
        "algorithm that usually performs well in binary classification tasks,\n",
        "namely Naive Bayes (NB)"
      ],
      "metadata": {
        "id": "Ib6bf9QStqQJ"
      }
    },
    {
      "cell_type": "markdown",
      "source": [
        "# Building and Evaluating the Model"
      ],
      "metadata": {
        "id": "l40dIrsLvK01"
      }
    },
    {
      "cell_type": "code",
      "source": [
        "# Building and Evaluating the Model\n",
        "# First, import the GaussianNB module.\n",
        "#Then initialize the model with the GaussianNB() function,\n",
        "#then train the model by fitting it to the data using gnb.fit():\n",
        "\n",
        "# Initialize our classifier\n",
        "gnb = GaussianNB()\n",
        "\n",
        "# Train our classifier\n",
        "model = gnb.fit(train, train_labels)\n"
      ],
      "metadata": {
        "id": "DKua7sc2tfx5"
      },
      "execution_count": 15,
      "outputs": []
    },
    {
      "cell_type": "markdown",
      "source": [
        "After we train the model, we can then use the trained model to make predictions on our test set, which we do using the predict() function.\n",
        "The predict() function returns an array of predictions for each data instance in the test set. We can then print our predictions to get a sense of what the model determined.\n",
        "Use the predict() function with the test set and print the results"
      ],
      "metadata": {
        "id": "wk8Qvz4Rus-q"
      }
    },
    {
      "cell_type": "markdown",
      "source": [
        "# Make predictions\n"
      ],
      "metadata": {
        "id": "msBTxsnOvIE3"
      }
    },
    {
      "cell_type": "code",
      "source": [
        "# Make predictions\n",
        "preds = gnb.predict(test)\n",
        "\n",
        "print(preds)"
      ],
      "metadata": {
        "colab": {
          "base_uri": "https://localhost:8080/"
        },
        "id": "suKlnVVguvk7",
        "outputId": "4eb47518-58c7-420c-de83-e9b67c142187"
      },
      "execution_count": 16,
      "outputs": [
        {
          "output_type": "stream",
          "name": "stdout",
          "text": [
            "[1 0 0 1 1 0 0 0 1 1 1 0 1 0 1 0 1 1 1 0 1 1 0 1 1 1 1 1 1 0 1 1 1 1 1 1 0\n",
            " 1 0 1 1 0 1 1 1 1 1 1 1 1 0 0 1 1 1 1 1 0 0 1 1 0 0 1 1 1 0 0 1 1 0 0 1 0\n",
            " 1 1 1 1 1 1 0 1 1 0 0 0 0 0 1 1 1 1 1 1 1 1 0 0 1 0 0 1 0 0 1 1 1 0 1 1 0\n",
            " 1 1 0 0 0 1 1 1 0 0 1 1 0 1 0 0 1 1 0 0 0 1 1 1 0 1 1 0 0 1 0 1 1 0 1 0 0\n",
            " 1 1 1 1 1 1 1 0 0 1 1 1 1 1 1 1 1 1 1 1 1 0 0 1 1 0 1 1 0 1 1 1 1 1 1 0 0\n",
            " 0 1 1]\n"
          ]
        }
      ]
    },
    {
      "cell_type": "markdown",
      "source": [
        "Now that we have our predictions, let’s evaluate how well our\n",
        "classifier is performing."
      ],
      "metadata": {
        "id": "4UpZRz7xu8BK"
      }
    },
    {
      "cell_type": "markdown",
      "source": [
        "# Evaluate the Model’s Accuracy\n",
        "Using the array of true class labels, we can evaluate the accuracy of our model’s predicted values by comparing the two arrays (test_labels vs. preds). We will use the sklearn function accuracy_score() to determine the accuracy of our machine learning classifier"
      ],
      "metadata": {
        "id": "OzeuFIESvCXk"
      }
    },
    {
      "cell_type": "code",
      "source": [
        "# Evaluate accuracy\n",
        "print(accuracy_score(test_labels, preds))"
      ],
      "metadata": {
        "colab": {
          "base_uri": "https://localhost:8080/"
        },
        "id": "fFjhSfHBu8vc",
        "outputId": "01d89aeb-49e7-4927-e10c-633f2c21867e"
      },
      "execution_count": 20,
      "outputs": [
        {
          "output_type": "stream",
          "name": "stdout",
          "text": [
            "0.9414893617021277\n"
          ]
        }
      ]
    },
    {
      "cell_type": "code",
      "source": [],
      "metadata": {
        "id": "eXjR-UHlwWH7"
      },
      "execution_count": null,
      "outputs": []
    }
  ]
}